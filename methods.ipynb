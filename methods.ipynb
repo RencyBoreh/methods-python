{
 "cells": [
  {
   "cell_type": "code",
   "execution_count": 47,
   "id": "420492bd-774a-4d50-9618-ba65e0ef491a",
   "metadata": {},
   "outputs": [
    {
     "name": "stdout",
     "output_type": "stream",
     "text": [
      "True\n",
      "True\n"
     ]
    }
   ],
   "source": [
    "#instance methods are methods that refer to the class itsef\n",
    "#static methods are methods that can be used anywhere and does not rely n the class@dtaticmethod\n",
    "#it is best for utility function that does not need access to the class data\n",
    "#class methods allows operations related to the class itself and it takes the (cls) as the first parameter \n",
    "#which represents the class-@classmethod\n",
    "#Magic methods (Dunder methods) they are automatically called by many of python's built-in operators.\n",
    "#They allow developers to define or customize the behaviour of objects\n",
    "class Book:\n",
    "    def __init__(self,name,author,pages):\n",
    "        self.name=name\n",
    "        self.author=author\n",
    "        self.pages=pages\n",
    "    def __str__(self):\n",
    "        return f\"The name of the book is {self.name} and the author is {self.author}.It has {self.pages} Pages\"\n",
    "    def __eq__(self,other):\n",
    "        return self.name==other.name and self.author==other.author\n",
    "    def __lt__(self,other):\n",
    "        return self.pages < other.pages\n",
    "book1=Book(\"Horror Book\",\"Rency Boreh\",200)\n",
    "book2=Book(\"Horror Book\",\"Rency Boreh\",190)\n",
    "print(book1==book2)\n",
    "print(book2 < book1)"
   ]
  },
  {
   "cell_type": "code",
   "execution_count": null,
   "id": "6df22e6a-380e-4bc9-9d8c-4bd16864ecb7",
   "metadata": {},
   "outputs": [],
   "source": []
  }
 ],
 "metadata": {
  "kernelspec": {
   "display_name": "Python 3 (ipykernel)",
   "language": "python",
   "name": "python3"
  },
  "language_info": {
   "codemirror_mode": {
    "name": "ipython",
    "version": 3
   },
   "file_extension": ".py",
   "mimetype": "text/x-python",
   "name": "python",
   "nbconvert_exporter": "python",
   "pygments_lexer": "ipython3",
   "version": "3.12.4"
  }
 },
 "nbformat": 4,
 "nbformat_minor": 5
}
